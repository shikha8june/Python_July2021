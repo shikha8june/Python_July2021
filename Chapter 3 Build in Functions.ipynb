{
 "cells": [
  {
   "cell_type": "markdown",
   "metadata": {},
   "source": [
    "ENUMERATE"
   ]
  },
  {
   "cell_type": "code",
   "execution_count": 2,
   "metadata": {},
   "outputs": [
    {
     "name": "stdout",
     "output_type": "stream",
     "text": [
      "1 Paul\n",
      "2 John\n",
      "3 Abbie\n",
      "4 Charlotte\n",
      "5 Ron\n"
     ]
    }
   ],
   "source": [
    "employee_names = [\"Paul\", \"John\", \"Abbie\", \"Charlotte\", \"Ron\"]\n",
    "\n",
    "for ind, name in enumerate(employee_names, 1):   #unpacking\n",
    "    print(ind, name)"
   ]
  },
  {
   "cell_type": "code",
   "execution_count": 11,
   "metadata": {},
   "outputs": [
    {
     "name": "stdout",
     "output_type": "stream",
     "text": [
      "1 Paul\n",
      "2 John\n",
      "3 Abbie\n",
      "4 Charlotte\n",
      "5 Ron\n"
     ]
    }
   ],
   "source": [
    "employee_names = [\"Paul\", \"John\", \"Abbie\", \"Charlotte\", \"Ron\"]\n",
    "\n",
    "for ind in range(len(employee_names)):    # using range instead of enummerate to compare both. enumerate gives cleaner code\n",
    "    print(ind+1, end =' ' )\n",
    "    print(employee_names[ind])"
   ]
  },
  {
   "cell_type": "code",
   "execution_count": 13,
   "metadata": {},
   "outputs": [
    {
     "name": "stdout",
     "output_type": "stream",
     "text": [
      "(0, 'Paul')\n",
      "(1, 'John')\n",
      "(2, 'Abbie')\n",
      "(3, 'Charlotte')\n",
      "(4, 'Ron')\n"
     ]
    }
   ],
   "source": [
    "for item in enumerate(employee_names):   #By default, enumerate() returns a list of tuples\n",
    "    print(item)"
   ]
  },
  {
   "cell_type": "markdown",
   "metadata": {},
   "source": [
    "sorted() vs sort()"
   ]
  },
  {
   "cell_type": "code",
   "execution_count": 17,
   "metadata": {},
   "outputs": [
    {
     "name": "stdout",
     "output_type": "stream",
     "text": [
      "['Abbie', 'Charlotte', 'John', 'Paul', 'Ron']\n"
     ]
    }
   ],
   "source": [
    "employee_names.sort()     #works only with list\n",
    "print(employee_names)"
   ]
  },
  {
   "cell_type": "code",
   "execution_count": 24,
   "metadata": {},
   "outputs": [
    {
     "data": {
      "text/plain": [
       "['y',\n",
       " 't',\n",
       " 'r',\n",
       " 'r',\n",
       " 'o',\n",
       " 'o',\n",
       " 'n',\n",
       " 'n',\n",
       " 'm',\n",
       " 'm',\n",
       " 'i',\n",
       " 'h',\n",
       " 'g',\n",
       " 'g',\n",
       " 'a',\n",
       " 'P',\n",
       " 'P',\n",
       " ' ']"
      ]
     },
     "execution_count": 24,
     "metadata": {},
     "output_type": "execute_result"
    }
   ],
   "source": [
    "sorted('Python Programming', reverse=True)    #sorted works with any sequence"
   ]
  },
  {
   "cell_type": "markdown",
   "metadata": {},
   "source": [
    "zip()"
   ]
  },
  {
   "cell_type": "code",
   "execution_count": 29,
   "metadata": {},
   "outputs": [
    {
     "name": "stdout",
     "output_type": "stream",
     "text": [
      "<zip object at 0x000002906EAD2E48>\n",
      "<class 'zip'>\n",
      "(('John', 'Jenny'), ('Charles', 'Christy'), ('Mike', 'Monica'))\n"
     ]
    }
   ],
   "source": [
    "a = (\"John\", \"Charles\", \"Mike\")\n",
    "b = (\"Jenny\", \"Christy\", \"Monica\", \"Vicky\")\n",
    "\n",
    "x = zip(a, b)\n",
    "print(x)\n",
    "print(type(x))   #zip object is iterator of tuples\n",
    "#use the tuple() function to display a readable version of the result:\n",
    "\n",
    "print(tuple(x))\n"
   ]
  },
  {
   "cell_type": "code",
   "execution_count": 4,
   "metadata": {},
   "outputs": [
    {
     "name": "stdout",
     "output_type": "stream",
     "text": [
      "The zipped result is : {('Student 4', 2, 70), ('Student 1', 4, 40), ('Student 2', 1, 50), ('Student 3', 3, 60)}\n",
      "[('Student 4', 2, 70), ('Student 1', 4, 40), ('Student 2', 1, 50), ('Student 3', 3, 60)]\n",
      "[(4, 40), (1, 50), (3, 60), (2, 70)]\n"
     ]
    }
   ],
   "source": [
    "# Python code to demonstrate the working of zip()\n",
    "  \n",
    "# initializing lists\n",
    "name = [ \"Student 1\", \"Student 2\", \"Student 3\", \"Student 4\" ]\n",
    "roll_no = [ 4, 1, 3, 2 ]\n",
    "marks = [ 40, 50, 60, 70 ]\n",
    "  \n",
    "# using zip() to map values\n",
    "mapped = zip(name, roll_no, marks)\n",
    "  \n",
    "# converting values to print as set\n",
    "mapped = set(mapped)\n",
    "  \n",
    "# printing resultant values \n",
    "print (\"The zipped result is : \",end=\"\")\n",
    "print (mapped)\n",
    "print (list(mapped))\n",
    "\n",
    "mapped2 = zip(roll_no, marks)\n",
    "print (list(mapped2))"
   ]
  },
  {
   "cell_type": "code",
   "execution_count": 34,
   "metadata": {},
   "outputs": [
    {
     "name": "stdout",
     "output_type": "stream",
     "text": [
      "0: foo, one\n",
      "1: bar, two\n",
      "2: baz, three\n"
     ]
    }
   ],
   "source": [
    "#A very common use of zip is simultaneously iterating over multiple sequences, possibly also combined with enumerate\n",
    "\n",
    "seq1 = ['foo', 'bar', 'baz']   \n",
    "seq2 = ['one', 'two', 'three']\n",
    "for i, (a, b) in enumerate(zip(seq1, seq2)):\n",
    "    print('{0}: {1}, {2}'.format(i, a, b))"
   ]
  },
  {
   "cell_type": "markdown",
   "metadata": {},
   "source": [
    "UnZipping"
   ]
  },
  {
   "cell_type": "code",
   "execution_count": 36,
   "metadata": {},
   "outputs": [
    {
     "name": "stdout",
     "output_type": "stream",
     "text": [
      "('Nolan', 'Roger', 'Schilling')\n",
      "('Ryan', 'Clemens', 'Curt')\n"
     ]
    }
   ],
   "source": [
    "pitchers = [('Nolan', 'Ryan'), ('Roger', 'Clemens'),('Schilling', 'Curt')]\n",
    "first_names, last_names = zip(*pitchers)\n",
    "print(first_names)\n",
    "\n",
    "print(last_names)\n"
   ]
  },
  {
   "cell_type": "code",
   "execution_count": 37,
   "metadata": {},
   "outputs": [
    {
     "name": "stdout",
     "output_type": "stream",
     "text": [
      "[('x', 3), ('y', 4), ('z', 5)]\n",
      "c = ('x', 'y', 'z')\n",
      "v = (3, 4, 5)\n"
     ]
    }
   ],
   "source": [
    "coordinate = ['x', 'y', 'z']\n",
    "value = [3, 4, 5]\n",
    "\n",
    "result = zip(coordinate, value)\n",
    "result_list = list(result)\n",
    "print(result_list)\n",
    "\n",
    "c, v =  zip(*result_list)\n",
    "print('c =', c)\n",
    "print('v =', v)"
   ]
  },
  {
   "cell_type": "markdown",
   "metadata": {},
   "source": [
    "Sorting list with key len"
   ]
  },
  {
   "cell_type": "code",
   "execution_count": 42,
   "metadata": {},
   "outputs": [
    {
     "name": "stdout",
     "output_type": "stream",
     "text": [
      "['pear', 'apple', 'banana']\n"
     ]
    }
   ],
   "source": [
    "a_list = [\"apple\", \"banana\", \"pear\"]\n",
    "\n",
    "sorted_list = sorted(a_list, key=len)\n",
    "\n",
    "print(sorted_list)"
   ]
  },
  {
   "cell_type": "code",
   "execution_count": null,
   "metadata": {},
   "outputs": [],
   "source": []
  }
 ],
 "metadata": {
  "kernelspec": {
   "display_name": "Python 3",
   "language": "python",
   "name": "python3"
  },
  "language_info": {
   "codemirror_mode": {
    "name": "ipython",
    "version": 3
   },
   "file_extension": ".py",
   "mimetype": "text/x-python",
   "name": "python",
   "nbconvert_exporter": "python",
   "pygments_lexer": "ipython3",
   "version": "3.7.6"
  }
 },
 "nbformat": 4,
 "nbformat_minor": 4
}
